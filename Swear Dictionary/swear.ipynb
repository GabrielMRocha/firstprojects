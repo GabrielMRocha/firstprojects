{
 "cells": [
  {
   "cell_type": "code",
   "execution_count": 2,
   "metadata": {},
   "outputs": [
    {
     "name": "stdout",
     "output_type": "stream",
     "text": [
      "Write the swearword: Caralho\n",
      "pt : Caralho\n",
      "en : Fuck\n",
      "cs : souložit\n",
      "sk : súložiť\n",
      "nl : neuken\n"
     ]
    }
   ],
   "source": [
    "from googletrans import Translator\n",
    "\n",
    "lang = [\"pt\",\"en\",\"cs\",\"sk\",\"nl\"]\n",
    "translator = Translator()\n",
    "word = input(\"Write the swearword: \")\n",
    "for i in lang:\n",
    "    result = translator.translate(word,dest=i)\n",
    "    print(i,\":\",result.text)\n"
   ]
  },
  {
   "cell_type": "code",
   "execution_count": 33,
   "metadata": {},
   "outputs": [
    {
     "name": "stdout",
     "output_type": "stream",
     "text": [
      "Write the swearword: puta\n",
      "pt: hooker\n",
      "en: puta\n",
      "cs: puta\n",
      "sk: puta\n",
      "nl: puta\n",
      "\n"
     ]
    }
   ],
   "source": [
    "from googletrans import Translator\n",
    "def dictionary(word):\n",
    "    toprint=\"\"\n",
    "    for i in lang:\n",
    "        result = translator.translate(word,src=i)\n",
    "        toprint += i +\": \"+result.text + \"\\n\"\n",
    "    return toprint\n",
    "\n",
    "lang = [\"pt\",\"en\",\"cs\",\"sk\",\"nl\"]\n",
    "translator = Translator()\n",
    "word = input(\"Write the swearword: \")\n",
    "print(dictionary(word))"
   ]
  },
  {
   "cell_type": "code",
   "execution_count": 32,
   "metadata": {},
   "outputs": [
    {
     "name": "stdout",
     "output_type": "stream",
     "text": [
      "Translated(src=pt, dest=en, text=hooker, pronunciation=hooker, extra_data=\"{'translat...\")\n"
     ]
    }
   ],
   "source": [
    "print(translator.translate(\"puta\",src=\"pt\"))"
   ]
  },
  {
   "cell_type": "code",
   "execution_count": 23,
   "metadata": {},
   "outputs": [
    {
     "name": "stdout",
     "output_type": "stream",
     "text": [
      "Translated(src=pt, dest=en, text=piroca, pronunciation=piroca, extra_data=\"{'translat...\")\n"
     ]
    }
   ],
   "source": []
  },
  {
   "cell_type": "code",
   "execution_count": null,
   "metadata": {},
   "outputs": [],
   "source": []
  }
 ],
 "metadata": {
  "kernelspec": {
   "display_name": "Python 3",
   "language": "python",
   "name": "python3"
  },
  "language_info": {
   "codemirror_mode": {
    "name": "ipython",
    "version": 3
   },
   "file_extension": ".py",
   "mimetype": "text/x-python",
   "name": "python",
   "nbconvert_exporter": "python",
   "pygments_lexer": "ipython3",
   "version": "3.7.7"
  }
 },
 "nbformat": 4,
 "nbformat_minor": 4
}
